{
  "nbformat": 4,
  "nbformat_minor": 0,
  "metadata": {
    "colab": {
      "name": "Python Demo for Distribution.ipynb",
      "provenance": [],
      "collapsed_sections": [
        "N_wzWDwFFSnE"
      ]
    },
    "kernelspec": {
      "name": "python3",
      "display_name": "Python 3"
    }
  },
  "cells": [
    {
      "cell_type": "code",
      "metadata": {
        "id": "lxbnCSGkB4Yr"
      },
      "source": [
        "import scipy\r\n",
        "import numpy as np"
      ],
      "execution_count": null,
      "outputs": []
    },
    {
      "cell_type": "code",
      "metadata": {
        "id": "ASTa99aDCU52"
      },
      "source": [
        "from scipy.stats import binom"
      ],
      "execution_count": null,
      "outputs": []
    },
    {
      "cell_type": "code",
      "metadata": {
        "colab": {
          "base_uri": "https://localhost:8080/",
          "height": 317
        },
        "id": "H7RkuOcfIRzy",
        "outputId": "2c2575d0-ffda-42a4-ff97-f2a87cabbfc3"
      },
      "source": [
        "from IPython.display  import Image\r\n",
        "Image(filename=\"/content/drive/MyDrive/Untitled Folder/binpdf.jpg\",height=300,width=300)"
      ],
      "execution_count": null,
      "outputs": [
        {
          "output_type": "execute_result",
          "data": {
            "image/jpeg": "[encoded data removed]",
            "text/plain": [
              "<IPython.core.display.Image object>"
            ]
          },
          "metadata": {
            "tags": [],
            "image/jpeg": {
              "width": 300,
              "height": 300
            }
          },
          "execution_count": 21
        }
      ]
    },
    {
      "cell_type": "markdown",
      "metadata": {
        "id": "c604gAZrCzVJ"
      },
      "source": [
        "A survey found that 65% of all financial consumers were very satisfied with their primary financial institution. Suppose that 25 financial consumers are sampled and if survey result still holds true today, what is probability that exactly 19 are very satisfied with their primary financial situation?\r\n"
      ]
    },
    {
      "cell_type": "code",
      "metadata": {
        "colab": {
          "base_uri": "https://localhost:8080/"
        },
        "id": "WGYVij5TTK2N",
        "outputId": "88ef88c1-93c2-4301-ff9b-9c3c92c3ae9d"
      },
      "source": [
        "print(binom.pmf(k=19,n=25,p=0.65))"
      ],
      "execution_count": null,
      "outputs": [
        {
          "output_type": "stream",
          "text": [
            "0.09077799859322791\n"
          ],
          "name": "stdout"
        }
      ]
    },
    {
      "cell_type": "markdown",
      "metadata": {
        "id": "nuCtUBRZlcL9"
      },
      "source": [
        "According to the U.S. Census Bureau , approximately 6% of all workers in Jackson, Mississippi are unemployed. In conducting a random telepone survey in \r\n",
        "Jackson. What is probability of gettong two or fewer unemployed workers in a sample of 20?"
      ]
    },
    {
      "cell_type": "code",
      "metadata": {
        "colab": {
          "base_uri": "https://localhost:8080/"
        },
        "id": "LodtC6bltFGT",
        "outputId": "ab41ebd7-df38-40b5-a57a-30519e739dbd"
      },
      "source": [
        "print(binom.cdf(k=2,n=20,p=0.06))"
      ],
      "execution_count": null,
      "outputs": [
        {
          "output_type": "stream",
          "text": [
            "0.8850275957378545\n"
          ],
          "name": "stdout"
        }
      ]
    },
    {
      "cell_type": "markdown",
      "metadata": {
        "id": "50ve3AhztrTt"
      },
      "source": [
        "Solve the binomial probabililty for n=20, p=40, and x =10"
      ]
    },
    {
      "cell_type": "code",
      "metadata": {
        "colab": {
          "base_uri": "https://localhost:8080/"
        },
        "id": "9aAxhN7WuFoy",
        "outputId": "c0ee6355-455f-4748-a399-198204654c8a"
      },
      "source": [
        "print(binom.pmf(k=10, n=20, p = 0.4))"
      ],
      "execution_count": null,
      "outputs": [
        {
          "output_type": "stream",
          "text": [
            "0.11714155053639011\n"
          ],
          "name": "stdout"
        }
      ]
    },
    {
      "cell_type": "markdown",
      "metadata": {
        "id": "PyIvBGesuTmG"
      },
      "source": [
        "##  Poisson **Distribution**"
      ]
    },
    {
      "cell_type": "code",
      "metadata": {
        "id": "x8aTa9TvuzE1"
      },
      "source": [
        "from scipy.stats import poisson"
      ],
      "execution_count": null,
      "outputs": []
    },
    {
      "cell_type": "code",
      "metadata": {
        "colab": {
          "base_uri": "https://localhost:8080/"
        },
        "id": "ZqhItophvpL6",
        "outputId": "161c655d-0e3c-48b8-dfbf-6c7197242d80"
      },
      "source": [
        "poisson.pmf(3,2)  # 3 = x, 2 = mean"
      ],
      "execution_count": null,
      "outputs": [
        {
          "output_type": "execute_result",
          "data": {
            "text/plain": [
              "0.18044704431548356"
            ]
          },
          "metadata": {
            "tags": []
          },
          "execution_count": 32
        }
      ]
    },
    {
      "cell_type": "markdown",
      "metadata": {
        "id": "vWPRWwoEvvCR"
      },
      "source": [
        "Bank customers arrive randomly on weekdays afternoon at an average of 3.2 customers every 4 minutes. What is the probability of exactly 5\r\n",
        "customers arriving in a 4 minute interval on a weekday afternoon?"
      ]
    },
    {
      "cell_type": "code",
      "metadata": {
        "colab": {
          "base_uri": "https://localhost:8080/"
        },
        "id": "BoAggiqLw53G",
        "outputId": "e04bf5ce-ca70-485e-eb93-10474e8cddc7"
      },
      "source": [
        "poisson.pmf(5, 3.2)"
      ],
      "execution_count": null,
      "outputs": [
        {
          "output_type": "execute_result",
          "data": {
            "text/plain": [
              "0.11397938346351824"
            ]
          },
          "metadata": {
            "tags": []
          },
          "execution_count": 36
        }
      ]
    },
    {
      "cell_type": "markdown",
      "metadata": {
        "id": "4rL7pTxRxOsC"
      },
      "source": [
        "Bank customers arrive randomly on weekdays afternoon at an average of 3.2 customers avery 4 minutes. What is probability of having more than 7 customers in a 4 minute interval on a weekly afternoon?"
      ]
    },
    {
      "cell_type": "code",
      "metadata": {
        "colab": {
          "base_uri": "https://localhost:8080/"
        },
        "id": "wLZfrD2ex6cx",
        "outputId": "b691d43d-a1a1-45a0-8470-1d859c0f6049"
      },
      "source": [
        "prob = poisson.cdf(7,3.2)\r\n",
        "prob"
      ],
      "execution_count": null,
      "outputs": [
        {
          "output_type": "execute_result",
          "data": {
            "text/plain": [
              "0.9831701582510425"
            ]
          },
          "metadata": {
            "tags": []
          },
          "execution_count": 38
        }
      ]
    },
    {
      "cell_type": "code",
      "metadata": {
        "colab": {
          "base_uri": "https://localhost:8080/"
        },
        "id": "yFxSagMlyEd1",
        "outputId": "ac633c75-7ff5-41a6-e189-aaefbde157de"
      },
      "source": [
        "prob_more_than_7 = 1 - prob\r\n",
        "prob_more_than_7"
      ],
      "execution_count": null,
      "outputs": [
        {
          "output_type": "execute_result",
          "data": {
            "text/plain": [
              "0.01682984174895752"
            ]
          },
          "metadata": {
            "tags": []
          },
          "execution_count": 39
        }
      ]
    },
    {
      "cell_type": "markdown",
      "metadata": {
        "id": "CHxzP_ZpyOlr"
      },
      "source": [
        "A bank has an average random arrival rate of 3.2 customers every 4 minutes .\r\n",
        "What is the probability of exactly 10 customers during a 8 minute interval?"
      ]
    },
    {
      "cell_type": "code",
      "metadata": {
        "colab": {
          "base_uri": "https://localhost:8080/"
        },
        "id": "qwLDRjsSzBWr",
        "outputId": "bdc8eae3-485e-45fc-b836-40b4378fbc99"
      },
      "source": [
        "poisson.pmf(10,6.4)"
      ],
      "execution_count": null,
      "outputs": [
        {
          "output_type": "execute_result",
          "data": {
            "text/plain": [
              "0.052790043854115495"
            ]
          },
          "metadata": {
            "tags": []
          },
          "execution_count": 41
        }
      ]
    },
    {
      "cell_type": "markdown",
      "metadata": {
        "id": "P4tTcJpf1VMP"
      },
      "source": [
        "Unidorm Distribution"
      ]
    },
    {
      "cell_type": "markdown",
      "metadata": {
        "id": "b0SlUb0Z0gyu"
      },
      "source": [
        "Suppose the amount of time it takes to assemble a plastic module ranges from 27 to 39 seconds and that assembly times are uniformly distributed Descirbe the distribution. What is the probability that a given assembly will take between 30 to 35 seconds?"
      ]
    },
    {
      "cell_type": "code",
      "metadata": {
        "colab": {
          "base_uri": "https://localhost:8080/"
        },
        "id": "hvUo1Qlf1Hba",
        "outputId": "a6f2b101-fdd8-486d-9505-1fdd7edf973b"
      },
      "source": [
        "U = np.arange(27,40,1)\r\n",
        "U"
      ],
      "execution_count": null,
      "outputs": [
        {
          "output_type": "execute_result",
          "data": {
            "text/plain": [
              "array([27, 28, 29, 30, 31, 32, 33, 34, 35, 36, 37, 38, 39])"
            ]
          },
          "metadata": {
            "tags": []
          },
          "execution_count": 43
        }
      ]
    },
    {
      "cell_type": "code",
      "metadata": {
        "colab": {
          "base_uri": "https://localhost:8080/"
        },
        "id": "ao-R1MlL5Rcb",
        "outputId": "3950b2dd-53ae-4e20-8964-22022e77df49"
      },
      "source": [
        "from scipy.stats import uniform \r\n",
        "uniform.mean(loc=27, scale=12)"
      ],
      "execution_count": null,
      "outputs": [
        {
          "output_type": "execute_result",
          "data": {
            "text/plain": [
              "33.0"
            ]
          },
          "metadata": {
            "tags": []
          },
          "execution_count": 45
        }
      ]
    },
    {
      "cell_type": "code",
      "metadata": {
        "colab": {
          "base_uri": "https://localhost:8080/"
        },
        "id": "2masYPQ65iXb",
        "outputId": "6abbeb5a-6552-4ad1-9943-d78c811aaf62"
      },
      "source": [
        "uniform.cdf(np.arange(30, 36, 1), loc =27, scale =12)"
      ],
      "execution_count": null,
      "outputs": [
        {
          "output_type": "execute_result",
          "data": {
            "text/plain": [
              "array([0.25      , 0.33333333, 0.41666667, 0.5       , 0.58333333,\n",
              "       0.66666667])"
            ]
          },
          "metadata": {
            "tags": []
          },
          "execution_count": 46
        }
      ]
    },
    {
      "cell_type": "code",
      "metadata": {
        "colab": {
          "base_uri": "https://localhost:8080/"
        },
        "id": "IJ5xEaGV9kKz",
        "outputId": "aa262ce3-802b-4bb8-b0a7-0c7541317927"
      },
      "source": [
        "uniform.cdf(np.arange(30,36,1),loc=27, scale=12)"
      ],
      "execution_count": null,
      "outputs": [
        {
          "output_type": "execute_result",
          "data": {
            "text/plain": [
              "array([0.25      , 0.33333333, 0.41666667, 0.5       , 0.58333333,\n",
              "       0.66666667])"
            ]
          },
          "metadata": {
            "tags": []
          },
          "execution_count": 47
        }
      ]
    },
    {
      "cell_type": "code",
      "metadata": {
        "colab": {
          "base_uri": "https://localhost:8080/"
        },
        "id": "IiG9OxBDCJYE",
        "outputId": "bc1e0e37-3ab5-49a2-96d9-cdeead6d320c"
      },
      "source": [
        "prob = 0.6666667-0.25\r\n",
        "prob"
      ],
      "execution_count": null,
      "outputs": [
        {
          "output_type": "execute_result",
          "data": {
            "text/plain": [
              "0.41666669999999995"
            ]
          },
          "metadata": {
            "tags": []
          },
          "execution_count": 48
        }
      ]
    },
    {
      "cell_type": "markdown",
      "metadata": {
        "id": "n6Y-DOMnCVb2"
      },
      "source": [
        "According to the National Association of Insurance Commissioners, the average annual cost for automobile insurance in the United States in a recent year was 691. Suppose automobile insurance costs are uniformly distributed in the United States with a range of from 200 to 1,182. What is the Standard deviation of this uniform distribution?"
      ]
    },
    {
      "cell_type": "code",
      "metadata": {
        "colab": {
          "base_uri": "https://localhost:8080/"
        },
        "id": "j1H_65DgD1FJ",
        "outputId": "b02de8a4-b2e4-4df7-d044-d86216862b5b"
      },
      "source": [
        "uniform.mean(loc=200, scale=982)"
      ],
      "execution_count": null,
      "outputs": [
        {
          "output_type": "execute_result",
          "data": {
            "text/plain": [
              "691.0"
            ]
          },
          "metadata": {
            "tags": []
          },
          "execution_count": 49
        }
      ]
    },
    {
      "cell_type": "code",
      "metadata": {
        "colab": {
          "base_uri": "https://localhost:8080/"
        },
        "id": "gxZjjzAeFLtq",
        "outputId": "06ea6ccb-22b2-41aa-a654-7222acca6351"
      },
      "source": [
        "uniform.std(loc=200,scale=982)"
      ],
      "execution_count": null,
      "outputs": [
        {
          "output_type": "execute_result",
          "data": {
            "text/plain": [
              "283.4789821721062"
            ]
          },
          "metadata": {
            "tags": []
          },
          "execution_count": 50
        }
      ]
    },
    {
      "cell_type": "markdown",
      "metadata": {
        "id": "N_wzWDwFFSnE"
      },
      "source": [
        "## Normal Distribution\r\n",
        "\r\n",
        "![](https://encrypted-tbn0.gstatic.com/images?q=tbn:ANd9GcQ6vxoKYFmxZrNwIHb6EhlkG-o3wDpTCeCiKQ&usqp=CAU)\r\n"
      ]
    },
    {
      "cell_type": "code",
      "metadata": {
        "id": "cZ7r-xzJF6tP"
      },
      "source": [
        "from scipy.stats import norm"
      ],
      "execution_count": null,
      "outputs": []
    },
    {
      "cell_type": "code",
      "metadata": {
        "id": "UsZKXiPfGRHp"
      },
      "source": [
        "val, m , s = 68, 65.5, 2.5"
      ],
      "execution_count": null,
      "outputs": []
    },
    {
      "cell_type": "code",
      "metadata": {
        "colab": {
          "base_uri": "https://localhost:8080/"
        },
        "id": "BMQbfgXgGbI2",
        "outputId": "a9903c33-8fb5-49d4-c888-a9d45db5e3e7"
      },
      "source": [
        "print(norm.cdf(val, m , s))"
      ],
      "execution_count": null,
      "outputs": [
        {
          "output_type": "stream",
          "text": [
            "0.8413447460685429\n"
          ],
          "name": "stdout"
        }
      ]
    },
    {
      "cell_type": "code",
      "metadata": {
        "colab": {
          "base_uri": "https://localhost:8080/"
        },
        "id": "A9Vv-WhJGgte",
        "outputId": "585f23a4-dc36-4782-b449-6ffb9297858e"
      },
      "source": [
        "# cdf for x > val\r\n",
        "print(1-norm.cdf(val,m,s))"
      ],
      "execution_count": null,
      "outputs": [
        {
          "output_type": "stream",
          "text": [
            "0.15865525393145707\n"
          ],
          "name": "stdout"
        }
      ]
    },
    {
      "cell_type": "code",
      "metadata": {
        "colab": {
          "base_uri": "https://localhost:8080/"
        },
        "id": "ZrZzIoexGrG8",
        "outputId": "85151728-8ed8-4328-a8a6-569e6ac90e32"
      },
      "source": [
        "# cdf for  val1<x<val2\r\n",
        "print(norm.cdf(val,m,s)-norm.cdf(63,m,s))"
      ],
      "execution_count": null,
      "outputs": [
        {
          "output_type": "stream",
          "text": [
            "0.6826894921370859\n"
          ],
          "name": "stdout"
        }
      ]
    },
    {
      "cell_type": "markdown",
      "metadata": {
        "id": "s8mU293zHxiG"
      },
      "source": [
        "what is probability of obtaining a score greater than 700 on a GMAT test that has a mean of 494 and a standard deviation of 100?\r\n",
        "Assume GMAT scores are normally distributed."
      ]
    },
    {
      "cell_type": "code",
      "metadata": {
        "colab": {
          "base_uri": "https://localhost:8080/"
        },
        "id": "PkI_PU4CITkW",
        "outputId": "3b3fbe8d-603d-4269-b552-565dbd054504"
      },
      "source": [
        "print(1-norm.cdf(700, 494, 100))"
      ],
      "execution_count": null,
      "outputs": [
        {
          "output_type": "stream",
          "text": [
            "0.019699270409376912\n"
          ],
          "name": "stdout"
        }
      ]
    },
    {
      "cell_type": "markdown",
      "metadata": {
        "id": "6YPu9ObKIoJy"
      },
      "source": [
        "For some GMAT examination, what is the probability of randomly drawing a score that is 550 or leass?"
      ]
    },
    {
      "cell_type": "code",
      "metadata": {
        "colab": {
          "base_uri": "https://localhost:8080/"
        },
        "id": "5y9b9upZJHc_",
        "outputId": "03c17be4-37ad-4da3-cfb6-18b5f6e1091e"
      },
      "source": [
        "print(norm.cdf(550,494,100))"
      ],
      "execution_count": null,
      "outputs": [
        {
          "output_type": "stream",
          "text": [
            "0.712260281150973\n"
          ],
          "name": "stdout"
        }
      ]
    },
    {
      "cell_type": "markdown",
      "metadata": {
        "id": "dWUmY4qqJmaB"
      },
      "source": [
        "What is the probability of randomly obtaining a score between 300 and 600 on the GMAT exam?"
      ]
    },
    {
      "cell_type": "code",
      "metadata": {
        "colab": {
          "base_uri": "https://localhost:8080/"
        },
        "id": "L3-cnic2J49P",
        "outputId": "7b270663-5ee5-4f6d-ce1f-d31c77b7f3ca"
      },
      "source": [
        "print(norm.cdf(600,494,100)-norm.cdf(300,494,100))"
      ],
      "execution_count": null,
      "outputs": [
        {
          "output_type": "stream",
          "text": [
            "0.8292378553956377\n"
          ],
          "name": "stdout"
        }
      ]
    },
    {
      "cell_type": "markdown",
      "metadata": {
        "id": "TN-SCeyDKCwV"
      },
      "source": [
        "What is the probability of getting a score between 350 and 450 on the same GMAT exam?\r\n"
      ]
    },
    {
      "cell_type": "code",
      "metadata": {
        "colab": {
          "base_uri": "https://localhost:8080/"
        },
        "id": "YcxJuM01MBfj",
        "outputId": "c8ce17ad-e2ca-47fd-97ba-89bf343ea9ad"
      },
      "source": [
        "print(norm.cdf(450,494,100)-norm.cdf(350,494,100))"
      ],
      "execution_count": null,
      "outputs": [
        {
          "output_type": "stream",
          "text": [
            "0.2550348541262666\n"
          ],
          "name": "stdout"
        }
      ]
    },
    {
      "cell_type": "markdown",
      "metadata": {
        "id": "9lN1xxIXMJZM"
      },
      "source": [
        "Now we are going to do reverse now area is given we want to know the x value if it is\r\n",
        "standard normal distribution we want to know the z vale\r\n"
      ]
    },
    {
      "cell_type": "code",
      "metadata": {
        "colab": {
          "base_uri": "https://localhost:8080/"
        },
        "id": "8CeZbCuLMlu4",
        "outputId": "ebbe4c77-f483-43da-f268-370fb7711abe"
      },
      "source": [
        "norm.ppf(0.95)  # probability function"
      ],
      "execution_count": null,
      "outputs": [
        {
          "output_type": "execute_result",
          "data": {
            "text/plain": [
              "1.6448536269514722"
            ]
          },
          "metadata": {
            "tags": []
          },
          "execution_count": 64
        }
      ]
    },
    {
      "cell_type": "code",
      "metadata": {
        "colab": {
          "base_uri": "https://localhost:8080/"
        },
        "id": "omY13GfFMy04",
        "outputId": "12a0e456-1127-4907-9ee5-4b2136c3738a"
      },
      "source": [
        "norm.ppf(1-.6772)"
      ],
      "execution_count": null,
      "outputs": [
        {
          "output_type": "execute_result",
          "data": {
            "text/plain": [
              "-0.45988328292440145"
            ]
          },
          "metadata": {
            "tags": []
          },
          "execution_count": 66
        }
      ]
    },
    {
      "cell_type": "markdown",
      "metadata": {
        "id": "l4dsFILWNOyB"
      },
      "source": [
        "## Hypergeometric Distribution \r\n",
        "\r\n",
        "\r\n",
        "Suppose 18 major computer companies operate in the United States and that 12 are located in California's Silicon Valley. If three \r\n",
        "computer companies are selected randomly from the entire list. What is the probability that one or more of the selected companies are located in Silicon Valley?"
      ]
    },
    {
      "cell_type": "code",
      "metadata": {
        "id": "-xx-jgUOOSU2",
        "colab": {
          "base_uri": "https://localhost:8080/"
        },
        "outputId": "88a0289e-35c7-49d1-caa6-b30da8e5eee3"
      },
      "source": [
        "from scipy.stats import hypergeom\r\n",
        "pval = hypergeom.sf(0,18,3,12)  # hypergeom.sf(x-1,N,n,A) sf = 1 - cdf (sf is survival function)\r\n",
        "pval"
      ],
      "execution_count": 67,
      "outputs": [
        {
          "output_type": "execute_result",
          "data": {
            "text/plain": [
              "0.9754901960784306"
            ]
          },
          "metadata": {
            "tags": []
          },
          "execution_count": 67
        }
      ]
    },
    {
      "cell_type": "markdown",
      "metadata": {
        "id": "tMoqBpV6d0xH"
      },
      "source": [
        "A western city has 18 police officers eligible for promotion. Eleven of the 18 are Hispanic. Suppose only five of the police officers are chosen for promotion . If the officers \r\n",
        "chosen for promotion had been selected by chance alone. What is probability that \r\n",
        "one or fewer of the five promoted officers would have been Hispanic?"
      ]
    },
    {
      "cell_type": "code",
      "metadata": {
        "colab": {
          "base_uri": "https://localhost:8080/"
        },
        "id": "lpU5saD6fD79",
        "outputId": "b0fd7585-5853-4850-dda6-a880e770c4b8"
      },
      "source": [
        "pval = hypergeom.cdf(1,18,5,11)\r\n",
        "pval"
      ],
      "execution_count": 69,
      "outputs": [
        {
          "output_type": "execute_result",
          "data": {
            "text/plain": [
              "0.04738562091503275"
            ]
          },
          "metadata": {
            "tags": []
          },
          "execution_count": 69
        }
      ]
    },
    {
      "cell_type": "markdown",
      "metadata": {
        "id": "d3T4fmBmfbiq"
      },
      "source": [
        "## Exponential Distribution Example"
      ]
    },
    {
      "cell_type": "markdown",
      "metadata": {
        "id": "9811YSnDfvbA"
      },
      "source": [
        "A manufacturing firm has been involved in statisical quality control for several years. As part of the production process parts are randomly selected and \r\n",
        "tested. From the records of these tests , it has been established that a defective part occurs in a pattern that is Poisson distributed on the average of 1.38\r\n",
        "defects every 20 minutes during production runs. Use this information to determine the probability that less than 15 minutes elapse between any two defects?"
      ]
    },
    {
      "cell_type": "code",
      "metadata": {
        "colab": {
          "base_uri": "https://localhost:8080/"
        },
        "id": "Kfsww6fNgyIJ",
        "outputId": "d56985a0-f60b-4e66-83cf-f8bcb35246c6"
      },
      "source": [
        "mul = 1/1.38 # for 20 mins\r\n",
        "mul"
      ],
      "execution_count": 70,
      "outputs": [
        {
          "output_type": "execute_result",
          "data": {
            "text/plain": [
              "0.7246376811594204"
            ]
          },
          "metadata": {
            "tags": []
          },
          "execution_count": 70
        }
      ]
    },
    {
      "cell_type": "code",
      "metadata": {
        "colab": {
          "base_uri": "https://localhost:8080/"
        },
        "id": "uAt8JF9-i1Gf",
        "outputId": "1e135a76-6a06-4976-ae59-d9160433f022"
      },
      "source": [
        "from scipy.stats import expon\r\n",
        "expon.cdf(0.75,0,(1/1.38))  # 15/20 =0.75, loc=0 because y = (x -loc) / scale and y = x/scale"
      ],
      "execution_count": 71,
      "outputs": [
        {
          "output_type": "execute_result",
          "data": {
            "text/plain": [
              "0.6447736190750485"
            ]
          },
          "metadata": {
            "tags": []
          },
          "execution_count": 71
        }
      ]
    },
    {
      "cell_type": "code",
      "metadata": {
        "id": "uy_wSQYajUB_"
      },
      "source": [
        ""
      ],
      "execution_count": null,
      "outputs": []
    }
  ]
}